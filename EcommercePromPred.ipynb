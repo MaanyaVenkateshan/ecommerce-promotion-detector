{
 "cells": [
  {
   "cell_type": "code",
   "execution_count": 1,
   "id": "e7c79b9c",
   "metadata": {},
   "outputs": [],
   "source": [
    "import pandas as pd"
   ]
  },
  {
   "cell_type": "code",
   "execution_count": 3,
   "id": "8ff6bede",
   "metadata": {},
   "outputs": [
    {
     "data": {
      "text/html": [
       "<div>\n",
       "<style scoped>\n",
       "    .dataframe tbody tr th:only-of-type {\n",
       "        vertical-align: middle;\n",
       "    }\n",
       "\n",
       "    .dataframe tbody tr th {\n",
       "        vertical-align: top;\n",
       "    }\n",
       "\n",
       "    .dataframe thead th {\n",
       "        text-align: right;\n",
       "    }\n",
       "</style>\n",
       "<table border=\"1\" class=\"dataframe\">\n",
       "  <thead>\n",
       "    <tr style=\"text-align: right;\">\n",
       "      <th></th>\n",
       "      <th>website</th>\n",
       "      <th>text</th>\n",
       "      <th>image_url</th>\n",
       "      <th>label</th>\n",
       "    </tr>\n",
       "  </thead>\n",
       "  <tbody>\n",
       "    <tr>\n",
       "      <th>0</th>\n",
       "      <td>flipkart</td>\n",
       "      <td>Search Icon</td>\n",
       "      <td>NaN</td>\n",
       "      <td>None</td>\n",
       "    </tr>\n",
       "    <tr>\n",
       "      <th>1</th>\n",
       "      <td>flipkart</td>\n",
       "      <td>New customer?Sign Up</td>\n",
       "      <td>NaN</td>\n",
       "      <td>None</td>\n",
       "    </tr>\n",
       "    <tr>\n",
       "      <th>2</th>\n",
       "      <td>flipkart</td>\n",
       "      <td>New customer?</td>\n",
       "      <td>NaN</td>\n",
       "      <td>None</td>\n",
       "    </tr>\n",
       "    <tr>\n",
       "      <th>3</th>\n",
       "      <td>flipkart</td>\n",
       "      <td>Sign Up</td>\n",
       "      <td>NaN</td>\n",
       "      <td>None</td>\n",
       "    </tr>\n",
       "    <tr>\n",
       "      <th>4</th>\n",
       "      <td>flipkart</td>\n",
       "      <td>My Profile</td>\n",
       "      <td>NaN</td>\n",
       "      <td>None</td>\n",
       "    </tr>\n",
       "    <tr>\n",
       "      <th>5</th>\n",
       "      <td>flipkart</td>\n",
       "      <td>Flipkart Plus Zone</td>\n",
       "      <td>NaN</td>\n",
       "      <td>None</td>\n",
       "    </tr>\n",
       "    <tr>\n",
       "      <th>6</th>\n",
       "      <td>flipkart</td>\n",
       "      <td>Orders</td>\n",
       "      <td>NaN</td>\n",
       "      <td>None</td>\n",
       "    </tr>\n",
       "    <tr>\n",
       "      <th>7</th>\n",
       "      <td>flipkart</td>\n",
       "      <td>Wishlist</td>\n",
       "      <td>NaN</td>\n",
       "      <td>None</td>\n",
       "    </tr>\n",
       "    <tr>\n",
       "      <th>8</th>\n",
       "      <td>flipkart</td>\n",
       "      <td>Rewards</td>\n",
       "      <td>NaN</td>\n",
       "      <td>None</td>\n",
       "    </tr>\n",
       "    <tr>\n",
       "      <th>9</th>\n",
       "      <td>flipkart</td>\n",
       "      <td>Gift Cards</td>\n",
       "      <td>NaN</td>\n",
       "      <td>None</td>\n",
       "    </tr>\n",
       "  </tbody>\n",
       "</table>\n",
       "</div>"
      ],
      "text/plain": [
       "    website                  text image_url label\n",
       "0  flipkart           Search Icon       NaN  None\n",
       "1  flipkart  New customer?Sign Up       NaN  None\n",
       "2  flipkart         New customer?       NaN  None\n",
       "3  flipkart               Sign Up       NaN  None\n",
       "4  flipkart            My Profile       NaN  None\n",
       "5  flipkart    Flipkart Plus Zone       NaN  None\n",
       "6  flipkart                Orders       NaN  None\n",
       "7  flipkart              Wishlist       NaN  None\n",
       "8  flipkart               Rewards       NaN  None\n",
       "9  flipkart            Gift Cards       NaN  None"
      ]
     },
     "execution_count": 3,
     "metadata": {},
     "output_type": "execute_result"
    }
   ],
   "source": [
    "df = pd.read_csv(r\"C:\\ecomPromotion\\ecommerce_scraped_data.csv\")\n",
    "df['label'] = None\n",
    "df.head(10)"
   ]
  },
  {
   "cell_type": "code",
   "execution_count": 4,
   "id": "fac43cc4",
   "metadata": {},
   "outputs": [],
   "source": [
    "df['label'] = None  \n"
   ]
  },
  {
   "cell_type": "code",
   "execution_count": 5,
   "id": "3b060a30",
   "metadata": {},
   "outputs": [],
   "source": [
    "def label_data(df, start=0, end=20):\n",
    "    for idx in range(start, end):\n",
    "        row = df.iloc[idx]\n",
    "        print(f\"\\n{idx+1}. Site: {row['website']}\")\n",
    "        print(\"TEXT:\", row['text'] if pd.notnull(row['text']) else \"(image only)\")\n",
    "        print(\"IMAGE:\", row['image_url'] if pd.notnull(row['image_url']) else \"(no image)\")\n",
    "        \n",
    "        label = input(\"Label (1=Promotion, 0=Non-Promotion, s=skip): \").strip().lower()\n",
    "        if label == '1':\n",
    "            df.at[idx, 'label'] = 'Promotion'\n",
    "        elif label == '0':\n",
    "            df.at[idx, 'label'] = 'Non-Promotion'\n",
    "        else:\n",
    "            print(\"Skipped.\")\n"
   ]
  },
  {
   "cell_type": "code",
   "execution_count": 6,
   "id": "f45e4709",
   "metadata": {},
   "outputs": [
    {
     "name": "stdout",
     "output_type": "stream",
     "text": [
      "\n",
      "1. Site: flipkart\n",
      "TEXT: Search Icon\n",
      "IMAGE: (no image)\n",
      "Label (1=Promotion, 0=Non-Promotion, s=skip): 0\n",
      "\n",
      "2. Site: flipkart\n",
      "TEXT: New customer?Sign Up\n",
      "IMAGE: (no image)\n",
      "Label (1=Promotion, 0=Non-Promotion, s=skip): 0\n",
      "\n",
      "3. Site: flipkart\n",
      "TEXT: New customer?\n",
      "IMAGE: (no image)\n",
      "Label (1=Promotion, 0=Non-Promotion, s=skip): 0\n",
      "\n",
      "4. Site: flipkart\n",
      "TEXT: Sign Up\n",
      "IMAGE: (no image)\n",
      "Label (1=Promotion, 0=Non-Promotion, s=skip): 0\n",
      "\n",
      "5. Site: flipkart\n",
      "TEXT: My Profile\n",
      "IMAGE: (no image)\n",
      "Label (1=Promotion, 0=Non-Promotion, s=skip): 0\n",
      "\n",
      "6. Site: flipkart\n",
      "TEXT: Flipkart Plus Zone\n",
      "IMAGE: (no image)\n",
      "Label (1=Promotion, 0=Non-Promotion, s=skip): 0\n",
      "\n",
      "7. Site: flipkart\n",
      "TEXT: Orders\n",
      "IMAGE: (no image)\n",
      "Label (1=Promotion, 0=Non-Promotion, s=skip): 0\n",
      "\n",
      "8. Site: flipkart\n",
      "TEXT: Wishlist\n",
      "IMAGE: (no image)\n",
      "Label (1=Promotion, 0=Non-Promotion, s=skip): 0\n",
      "\n",
      "9. Site: flipkart\n",
      "TEXT: Rewards\n",
      "IMAGE: (no image)\n",
      "Label (1=Promotion, 0=Non-Promotion, s=skip): 1\n",
      "\n",
      "10. Site: flipkart\n",
      "TEXT: Gift Cards\n",
      "IMAGE: (no image)\n",
      "Label (1=Promotion, 0=Non-Promotion, s=skip): 0\n",
      "\n",
      "11. Site: flipkart\n",
      "TEXT: Become a Seller\n",
      "IMAGE: (no image)\n",
      "Label (1=Promotion, 0=Non-Promotion, s=skip): 0\n",
      "\n",
      "12. Site: flipkart\n",
      "TEXT: Notification Preferences\n",
      "IMAGE: (no image)\n",
      "Label (1=Promotion, 0=Non-Promotion, s=skip): 0\n",
      "\n",
      "13. Site: flipkart\n",
      "TEXT: 24x7 Customer Care\n",
      "IMAGE: (no image)\n",
      "Label (1=Promotion, 0=Non-Promotion, s=skip): 0\n",
      "\n",
      "14. Site: flipkart\n",
      "TEXT: Advertise\n",
      "IMAGE: (no image)\n",
      "Label (1=Promotion, 0=Non-Promotion, s=skip): 0\n",
      "\n",
      "15. Site: flipkart\n",
      "TEXT: Download App\n",
      "IMAGE: (no image)\n",
      "Label (1=Promotion, 0=Non-Promotion, s=skip): 0\n",
      "\n",
      "16. Site: flipkart\n",
      "TEXT: Grocery\n",
      "IMAGE: (no image)\n",
      "Label (1=Promotion, 0=Non-Promotion, s=skip): 0\n",
      "\n",
      "17. Site: flipkart\n",
      "TEXT: Grocery\n",
      "IMAGE: (no image)\n",
      "Label (1=Promotion, 0=Non-Promotion, s=skip): 0\n",
      "\n",
      "18. Site: flipkart\n",
      "TEXT: Grocery\n",
      "IMAGE: (no image)\n",
      "Label (1=Promotion, 0=Non-Promotion, s=skip): 0\n",
      "\n",
      "19. Site: flipkart\n",
      "TEXT: Mobiles\n",
      "IMAGE: (no image)\n",
      "Label (1=Promotion, 0=Non-Promotion, s=skip): 0\n",
      "\n",
      "20. Site: flipkart\n",
      "TEXT: Mobiles\n",
      "IMAGE: (no image)\n",
      "Label (1=Promotion, 0=Non-Promotion, s=skip): 0\n"
     ]
    }
   ],
   "source": [
    "label_data(df, start=0, end=20)  \n"
   ]
  },
  {
   "cell_type": "code",
   "execution_count": 7,
   "id": "12ff5784",
   "metadata": {},
   "outputs": [],
   "source": [
    "df.to_csv(\"labeled_ecommerce_data.csv\", index=False)\n"
   ]
  },
  {
   "cell_type": "code",
   "execution_count": 8,
   "id": "aed81078",
   "metadata": {},
   "outputs": [],
   "source": [
    "text_only = df[df['text'].notna()].copy()\n"
   ]
  },
  {
   "cell_type": "code",
   "execution_count": 9,
   "id": "6a9392b7",
   "metadata": {},
   "outputs": [],
   "source": [
    "text_only.to_csv(\"labeled_text_data.csv\", index=False)\n"
   ]
  },
  {
   "cell_type": "code",
   "execution_count": 10,
   "id": "65a85771",
   "metadata": {},
   "outputs": [],
   "source": [
    "df.update(text_only)\n",
    "df.to_csv(\"labeled_ecommerce_data.csv\", index=False)\n"
   ]
  },
  {
   "cell_type": "code",
   "execution_count": 11,
   "id": "b9c47b89",
   "metadata": {},
   "outputs": [],
   "source": [
    "import pandas as pd\n",
    "\n",
    "df = pd.read_csv(\"labeled_text_data.csv\")\n",
    "df = df.dropna(subset=['label'])  \n",
    "df = df[df['label'].isin([0, 1])]  \n"
   ]
  },
  {
   "cell_type": "code",
   "execution_count": 13,
   "id": "0d7859aa",
   "metadata": {},
   "outputs": [
    {
     "data": {
      "text/plain": [
       "Series([], Name: label, dtype: int64)"
      ]
     },
     "execution_count": 13,
     "metadata": {},
     "output_type": "execute_result"
    }
   ],
   "source": [
    "df['label'].value_counts(dropna=False)\n"
   ]
  },
  {
   "cell_type": "code",
   "execution_count": 17,
   "id": "1ba2a28d",
   "metadata": {},
   "outputs": [],
   "source": [
    "import pandas as pd\n",
    "\n",
    "\n",
    "text_only = pd.read_csv(\"C:/ecomPromotion/labeled_text_data.csv\")\n",
    "\n",
    "\n",
    "df = pd.read_csv(\"C:/ecomPromotion/ecommerce_scraped_data.csv\")\n"
   ]
  },
  {
   "cell_type": "code",
   "execution_count": 18,
   "id": "ebcf6f62",
   "metadata": {},
   "outputs": [],
   "source": [
    "\n",
    "df = df.merge(\n",
    "    text_only[['website', 'text', 'label']],\n",
    "    on=['website', 'text'],\n",
    "    how='left'\n",
    ")\n"
   ]
  },
  {
   "cell_type": "code",
   "execution_count": 19,
   "id": "f6bc6637",
   "metadata": {},
   "outputs": [
    {
     "name": "stdout",
     "output_type": "stream",
     "text": [
      " Total labeled rows: 0\n",
      "Series([], Name: label, dtype: int64)\n"
     ]
    }
   ],
   "source": [
    "df = df[df['label'].isin([0, 1])]\n",
    "\n",
    "print(\" Total labeled rows:\", len(df))\n",
    "print(df['label'].value_counts())\n"
   ]
  },
  {
   "cell_type": "code",
   "execution_count": 20,
   "id": "2cdf3bf4",
   "metadata": {},
   "outputs": [
    {
     "name": "stdout",
     "output_type": "stream",
     "text": [
      "['Non-Promotion' 'Promotion' nan]\n",
      "NaN              8804\n",
      "Non-Promotion      19\n",
      "Promotion           1\n",
      "Name: label, dtype: int64\n"
     ]
    }
   ],
   "source": [
    "print(text_only['label'].unique())\n",
    "print(text_only['label'].value_counts(dropna=False))\n"
   ]
  },
  {
   "cell_type": "code",
   "execution_count": 22,
   "id": "867b3e13",
   "metadata": {},
   "outputs": [
    {
     "name": "stdout",
     "output_type": "stream",
     "text": [
      " Total labeled rows: 20\n",
      "0.0    19\n",
      "1.0     1\n",
      "Name: label, dtype: int64\n"
     ]
    }
   ],
   "source": [
    "import pandas as pd\n",
    "\n",
    "\n",
    "df = pd.read_csv(\"C:/ecomPromotion/labeled_text_data.csv\")\n",
    "\n",
    "\n",
    "df['label'] = df['label'].map({'Promotion': 1, 'Non-Promotion': 0})\n",
    "\n",
    "\n",
    "df = df[df['label'].isin([0, 1])]\n",
    "\n",
    "print(\" Total labeled rows:\", len(df))\n",
    "print(df['label'].value_counts())\n"
   ]
  },
  {
   "cell_type": "code",
   "execution_count": 24,
   "id": "11609835",
   "metadata": {},
   "outputs": [],
   "source": [
    "from sklearn.model_selection import train_test_split\n",
    "\n",
    "X = df['text']\n",
    "y = df['label']\n",
    "\n",
    "X_train, X_test, y_train, y_test = train_test_split(\n",
    "    X, y, test_size=0.2, random_state=42\n",
    ")\n"
   ]
  },
  {
   "cell_type": "code",
   "execution_count": 25,
   "id": "6ff3565c",
   "metadata": {},
   "outputs": [],
   "source": [
    "from sklearn.feature_extraction.text import TfidfVectorizer\n",
    "\n",
    "vectorizer = TfidfVectorizer(max_features=1000, ngram_range=(1, 2))\n",
    "X_train_vec = vectorizer.fit_transform(X_train)\n",
    "X_test_vec = vectorizer.transform(X_test)\n"
   ]
  },
  {
   "cell_type": "code",
   "execution_count": 26,
   "id": "fd6607b1",
   "metadata": {},
   "outputs": [],
   "source": [
    "from sklearn.linear_model import LogisticRegression\n",
    "from sklearn.metrics import classification_report, confusion_matrix\n",
    "\n",
    "model = LogisticRegression()\n",
    "model.fit(X_train_vec, y_train)\n",
    "\n",
    "y_pred = model.predict(X_test_vec)\n"
   ]
  },
  {
   "cell_type": "code",
   "execution_count": 27,
   "id": "2aca07fd",
   "metadata": {
    "scrolled": true
   },
   "outputs": [
    {
     "name": "stdout",
     "output_type": "stream",
     "text": [
      "✅ Model Evaluation:\n",
      "[[4]]\n",
      "              precision    recall  f1-score   support\n",
      "\n",
      "         0.0       1.00      1.00      1.00         4\n",
      "\n",
      "    accuracy                           1.00         4\n",
      "   macro avg       1.00      1.00      1.00         4\n",
      "weighted avg       1.00      1.00      1.00         4\n",
      "\n"
     ]
    }
   ],
   "source": [
    "print(\" Model Evaluation:\")\n",
    "print(confusion_matrix(y_test, y_pred))\n",
    "print(classification_report(y_test, y_pred))\n"
   ]
  },
  {
   "cell_type": "code",
   "execution_count": 28,
   "id": "94b711b2",
   "metadata": {},
   "outputs": [
    {
     "data": {
      "text/plain": [
       "'C:\\\\Users\\\\Maanya'"
      ]
     },
     "execution_count": 28,
     "metadata": {},
     "output_type": "execute_result"
    }
   ],
   "source": [
    "import os\n",
    "os.getcwd()\n"
   ]
  },
  {
   "cell_type": "code",
   "execution_count": 29,
   "id": "7d21bab2",
   "metadata": {},
   "outputs": [],
   "source": [
    "df = pd.read_csv(\"C:/ecomPromotion/labeled_text_data.csv\")\n",
    "df_scraped = pd.read_csv(\"C:/ecomPromotion/ecommerce_scraped_data.csv\")\n"
   ]
  },
  {
   "cell_type": "code",
   "execution_count": 30,
   "id": "3ff8b0a0",
   "metadata": {},
   "outputs": [],
   "source": [
    "\n",
    "manual_df = pd.read_csv(\"C:/ecomPromotion/labeled_text_data.csv\")\n",
    "full_df = pd.read_csv(\"C:/ecomPromotion/ecommerce_scraped_data.csv\")\n",
    "\n",
    "\n",
    "merged_df = full_df.merge(manual_df[['text', 'label']], on='text', how='left')\n"
   ]
  },
  {
   "cell_type": "code",
   "execution_count": 31,
   "id": "8f31b3bb",
   "metadata": {},
   "outputs": [],
   "source": [
    "\n",
    "promotion_keywords = [\n",
    "    \"free\", \"off\", \"offer\", \"sale\", \"deal\", \"discount\", \"save\", \"cashback\",\n",
    "    \"limited time\", \"exclusive\", \"get now\", \"lowest price\", \"bargain\"\n",
    "]\n",
    "non_promotion_keywords = [\n",
    "    \"about\", \"account\", \"wishlist\", \"track\", \"customer care\", \"login\", \"signup\",\n",
    "    \"cart\", \"download app\", \"store\", \"contact us\", \"terms\", \"help\"\n",
    "]\n",
    "\n",
    "\n",
    "def auto_label(row):\n",
    "    if pd.notna(row['label']):\n",
    "        return row['label']\n",
    "    text = str(row['text']).lower()\n",
    "    if any(keyword in text for keyword in promotion_keywords):\n",
    "        return \"Promotion\"\n",
    "    elif any(keyword in text for keyword in non_promotion_keywords):\n",
    "        return \"Non-Promotion\"\n",
    "    return None  \n",
    "\n",
    "merged_df['label'] = merged_df.apply(auto_label, axis=1)\n"
   ]
  },
  {
   "cell_type": "code",
   "execution_count": 32,
   "id": "6cf65247",
   "metadata": {},
   "outputs": [
    {
     "name": "stdout",
     "output_type": "stream",
     "text": [
      " Saved expanded_labeled_data.csv\n"
     ]
    }
   ],
   "source": [
    "merged_df.to_csv(\"C:/ecomPromotion/expanded_labeled_data.csv\", index=False)\n",
    "print(\" Saved expanded_labeled_data.csv\")\n"
   ]
  },
  {
   "cell_type": "code",
   "execution_count": 33,
   "id": "5843fb40",
   "metadata": {},
   "outputs": [
    {
     "name": "stdout",
     "output_type": "stream",
     "text": [
      "Label distribution:\n",
      "NaN              562159\n",
      "Promotion          7819\n",
      "Non-Promotion      2279\n",
      "Name: label, dtype: int64\n"
     ]
    }
   ],
   "source": [
    "\n",
    "label_counts = merged_df['label'].value_counts(dropna=False)\n",
    "\n",
    "print(\"Label distribution:\")\n",
    "print(label_counts)\n"
   ]
  },
  {
   "cell_type": "code",
   "execution_count": 34,
   "id": "b54d441a",
   "metadata": {},
   "outputs": [],
   "source": [
    "labeled_df = merged_df[merged_df['label'].notna()].copy()\n"
   ]
  },
  {
   "cell_type": "code",
   "execution_count": 35,
   "id": "a61ad26b",
   "metadata": {},
   "outputs": [],
   "source": [
    "promo = labeled_df[labeled_df['label'] == 'Promotion']\n",
    "non_promo = labeled_df[labeled_df['label'] == 'Non-Promotion']\n",
    "min_len = min(len(promo), len(non_promo))\n",
    "\n",
    "balanced_df = pd.concat([\n",
    "    promo.sample(min_len, random_state=42),\n",
    "    non_promo.sample(min_len, random_state=42)\n",
    "])\n"
   ]
  },
  {
   "cell_type": "code",
   "execution_count": 36,
   "id": "c91bcd89",
   "metadata": {},
   "outputs": [],
   "source": [
    "labeled_df['label'] = labeled_df['label'].map({'Promotion': 1, 'Non-Promotion': 0})\n"
   ]
  },
  {
   "cell_type": "code",
   "execution_count": 37,
   "id": "7638d172",
   "metadata": {},
   "outputs": [],
   "source": [
    "from sklearn.model_selection import train_test_split\n",
    "\n",
    "X_train, X_test, y_train, y_test = train_test_split(\n",
    "    labeled_df['text'], labeled_df['label'], \n",
    "    test_size=0.2, stratify=labeled_df['label'], random_state=42\n",
    ")\n"
   ]
  },
  {
   "cell_type": "code",
   "execution_count": 38,
   "id": "d98eb2e8",
   "metadata": {},
   "outputs": [],
   "source": [
    "from sklearn.feature_extraction.text import TfidfVectorizer\n",
    "\n",
    "\n",
    "vectorizer = TfidfVectorizer(max_features=5000)\n",
    "\n",
    "X_train_vec = vectorizer.fit_transform(X_train)\n",
    "X_test_vec = vectorizer.transform(X_test)\n"
   ]
  },
  {
   "cell_type": "code",
   "execution_count": 39,
   "id": "22b5ab2f",
   "metadata": {},
   "outputs": [
    {
     "name": "stdout",
     "output_type": "stream",
     "text": [
      "Confusion Matrix:\n",
      "[[ 453    3]\n",
      " [   0 1564]]\n",
      "\n",
      "Classification Report:\n",
      "              precision    recall  f1-score   support\n",
      "\n",
      "           0       1.00      0.99      1.00       456\n",
      "           1       1.00      1.00      1.00      1564\n",
      "\n",
      "    accuracy                           1.00      2020\n",
      "   macro avg       1.00      1.00      1.00      2020\n",
      "weighted avg       1.00      1.00      1.00      2020\n",
      "\n"
     ]
    }
   ],
   "source": [
    "from sklearn.linear_model import LogisticRegression\n",
    "from sklearn.metrics import classification_report, confusion_matrix\n",
    "\n",
    "model = LogisticRegression(max_iter=1000)\n",
    "model.fit(X_train_vec, y_train)\n",
    "\n",
    "\n",
    "y_pred = model.predict(X_test_vec)\n",
    "\n",
    "\n",
    "print(\"Confusion Matrix:\")\n",
    "print(confusion_matrix(y_test, y_pred))\n",
    "\n",
    "print(\"\\nClassification Report:\")\n",
    "print(classification_report(y_test, y_pred))\n"
   ]
  },
  {
   "cell_type": "code",
   "execution_count": 40,
   "id": "8163ae4a",
   "metadata": {},
   "outputs": [
    {
     "name": "stdout",
     "output_type": "stream",
     "text": [
      "Text: Mega sale: up to 60% off → Predicted Label: Promotion\n",
      "Text: New arrivals in store → Predicted Label: Non-Promotion\n",
      "Text: Refer a friend and get rewards → Predicted Label: Promotion\n"
     ]
    }
   ],
   "source": [
    "\n",
    "new_texts = [\"Mega sale: up to 60% off\", \"New arrivals in store\", \"Refer a friend and get rewards\"]\n",
    "\n",
    "new_vec = vectorizer.transform(new_texts)\n",
    "preds = model.predict(new_vec)\n",
    "\n",
    "for txt, label in zip(new_texts, preds):\n",
    "    print(f\"Text: {txt} → Predicted Label: {'Promotion' if label == 1 else 'Non-Promotion'}\")\n"
   ]
  }
 ],
 "metadata": {
  "kernelspec": {
   "display_name": "Python 3",
   "language": "python",
   "name": "python3"
  },
  "language_info": {
   "codemirror_mode": {
    "name": "ipython",
    "version": 3
   },
   "file_extension": ".py",
   "mimetype": "text/x-python",
   "name": "python",
   "nbconvert_exporter": "python",
   "pygments_lexer": "ipython3",
   "version": "3.8.8"
  }
 },
 "nbformat": 4,
 "nbformat_minor": 5
}
